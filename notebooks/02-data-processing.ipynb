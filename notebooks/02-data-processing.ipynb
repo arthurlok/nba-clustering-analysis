{
 "cells": [
  {
   "cell_type": "code",
   "execution_count": 1,
   "metadata": {},
   "outputs": [],
   "source": [
    "import pandas as pd "
   ]
  },
  {
   "cell_type": "code",
   "execution_count": 2,
   "metadata": {},
   "outputs": [],
   "source": [
    "advanced_box_scores_1_df = pd.read_csv('Advanced Box Scores 1.csv',index_col=0,dtype={'GAME_ID':'str'})\n",
    "advanced_box_scores_2_df = pd.read_csv('Advanced Box Scores 2.csv',index_col=0,dtype={'GAME_ID':'str'})\n",
    "advanced_box_scores_3_df = pd.read_csv('Advanced Box Scores 3.csv',index_col=0,dtype={'GAME_ID':'str'})"
   ]
  },
  {
   "cell_type": "code",
   "execution_count": 3,
   "metadata": {},
   "outputs": [],
   "source": [
    "season_game_logs = pd.read_csv('2000-2021 Season Game Logs.csv',index_col=0,dtype={'GAME_ID':'str'})"
   ]
  },
  {
   "cell_type": "code",
   "execution_count": 4,
   "metadata": {},
   "outputs": [],
   "source": [
    "advanced_box_scores_df = pd.concat([advanced_box_scores_1_df,advanced_box_scores_2_df,advanced_box_scores_3_df])"
   ]
  },
  {
   "cell_type": "code",
   "execution_count": 5,
   "metadata": {},
   "outputs": [
    {
     "name": "stdout",
     "output_type": "stream",
     "text": [
      "25103\n",
      "25103\n"
     ]
    }
   ],
   "source": [
    "# One game does not return any advanced box score stats: Wizards @ Hornets on 02/18/2004 - Unclear if this is a bug but removing from data\n",
    "\n",
    "season_game_logs = season_game_logs[~(season_game_logs['GAME_ID']=='0020300778')]\n",
    "\n",
    "print(len(season_game_logs['GAME_ID'].unique()) )\n",
    "print(len(advanced_box_scores_df['GAME_ID'].unique()))"
   ]
  },
  {
   "cell_type": "code",
   "execution_count": 20,
   "metadata": {},
   "outputs": [],
   "source": [
    "season_game_logs_with_advanced_stats = pd.merge(season_game_logs, advanced_box_scores_df,  how='left', left_on=['GAME_ID','PLAYER_ID'], right_on = ['GAME_ID','PLAYER_ID'],suffixes=('', '_del'))"
   ]
  },
  {
   "cell_type": "code",
   "execution_count": 24,
   "metadata": {},
   "outputs": [],
   "source": [
    "season_game_logs_with_advanced_stats.drop(['TEAM_ID_del','TEAM_ABBREVIATION_del','PLAYER_NAME_del','NICKNAME_del','MIN_del'], axis=1, inplace=True)"
   ]
  },
  {
   "cell_type": "code",
   "execution_count": 26,
   "metadata": {},
   "outputs": [],
   "source": [
    "season_game_logs_with_advanced_stats.to_csv('2000-2021 Season Game Logs with Advanced Stats.csv')"
   ]
  }
 ],
 "metadata": {
  "kernelspec": {
   "display_name": "Python 3",
   "language": "python",
   "name": "python3"
  },
  "language_info": {
   "codemirror_mode": {
    "name": "ipython",
    "version": 3
   },
   "file_extension": ".py",
   "mimetype": "text/x-python",
   "name": "python",
   "nbconvert_exporter": "python",
   "pygments_lexer": "ipython3",
   "version": "3.8.8"
  }
 },
 "nbformat": 4,
 "nbformat_minor": 4
}
